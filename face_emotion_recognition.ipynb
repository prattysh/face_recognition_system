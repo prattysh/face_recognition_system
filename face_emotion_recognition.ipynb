{
 "cells": [
  {
   "cell_type": "code",
   "execution_count": 1,
   "id": "442f5920-8149-480a-9289-5811469f47a8",
   "metadata": {},
   "outputs": [],
   "source": [
    "from keras.utils import to_categorical\n",
    "from keras_preprocessing.image import load_img, ImageDataGenerator\n",
    "from keras.models import Sequential\n",
    "from keras.layers import Dense, Conv2D, Dropout, Flatten, MaxPooling2D, BatchNormalization\n",
    "from keras.optimizers import Adamax\n",
    "from keras.regularizers import l2\n",
    "from keras.callbacks import EarlyStopping, ReduceLROnPlateau\n",
    "import os\n",
    "import pandas as pd\n",
    "import numpy as np\n",
    "import matplotlib.pyplot as plt\n",
    "from tqdm.notebook import tqdm"
   ]
  },
  {
   "cell_type": "code",
   "execution_count": 2,
   "id": "fa629427-0e2c-4c86-97ea-c1014d00648f",
   "metadata": {},
   "outputs": [],
   "source": [
    "# Define paths\n",
    "TRAIN_DIR = 'images/train'\n",
    "TEST_DIR = 'images/test'"
   ]
  },
  {
   "cell_type": "code",
   "execution_count": 3,
   "id": "c7c43c3e-7d6b-4944-bee2-7d07b38beb7f",
   "metadata": {},
   "outputs": [],
   "source": [
    "def create_dataframe(dir):\n",
    "    image_paths, labels = [], []\n",
    "    for label in os.listdir(dir):\n",
    "        for imagename in os.listdir(os.path.join(dir, label)):\n",
    "            image_paths.append(os.path.join(dir, label, imagename))\n",
    "            labels.append(label)\n",
    "    return image_paths, labels"
   ]
  },
  {
   "cell_type": "code",
   "execution_count": 4,
   "id": "1c1eb9b6-d288-453a-8ea2-f55e25691d70",
   "metadata": {},
   "outputs": [],
   "source": [
    "# Load train and test data\n",
    "train = pd.DataFrame()\n",
    "train['image'], train['label'] = create_dataframe(TRAIN_DIR)\n",
    "test = pd.DataFrame()\n",
    "test['image'], test['label'] = create_dataframe(TEST_DIR)"
   ]
  },
  {
   "cell_type": "code",
   "execution_count": 5,
   "id": "4998f592-5e0f-4f30-8509-6a8bb40b0927",
   "metadata": {},
   "outputs": [],
   "source": [
    "def extract_features(images):\n",
    "    features = []\n",
    "    for image in tqdm(images):\n",
    "        img = load_img(image, grayscale=True)\n",
    "        img = np.array(img)\n",
    "        features.append(img)\n",
    "    features = np.array(features).reshape(len(features), 48, 48, 1)\n",
    "    return features"
   ]
  },
  {
   "cell_type": "code",
   "execution_count": 6,
   "id": "b15ecbb1-095d-4be0-9cb2-fbc9e5664b4f",
   "metadata": {},
   "outputs": [
    {
     "data": {
      "application/vnd.jupyter.widget-view+json": {
       "model_id": "d6dc41903f4643cbaa8c7e5ea866dfb4",
       "version_major": 2,
       "version_minor": 0
      },
      "text/plain": [
       "  0%|          | 0/28821 [00:00<?, ?it/s]"
      ]
     },
     "metadata": {},
     "output_type": "display_data"
    },
    {
     "name": "stderr",
     "output_type": "stream",
     "text": [
      "C:\\Users\\KIIT\\AppData\\Roaming\\Python\\Python312\\site-packages\\keras_preprocessing\\image\\utils.py:107: UserWarning: grayscale is deprecated. Please use color_mode = \"grayscale\"\n",
      "  warnings.warn('grayscale is deprecated. Please use '\n"
     ]
    },
    {
     "data": {
      "application/vnd.jupyter.widget-view+json": {
       "model_id": "74ddf91a22f944efa00e35af83802063",
       "version_major": 2,
       "version_minor": 0
      },
      "text/plain": [
       "  0%|          | 0/7066 [00:00<?, ?it/s]"
      ]
     },
     "metadata": {},
     "output_type": "display_data"
    }
   ],
   "source": [
    "# Feature extraction\n",
    "x_train = extract_features(train['image']) / 255.0\n",
    "x_test = extract_features(test['image']) / 255.0"
   ]
  },
  {
   "cell_type": "code",
   "execution_count": 7,
   "id": "8c2cd1b1-b724-4cda-9f9e-65fe5f8621e5",
   "metadata": {},
   "outputs": [],
   "source": [
    "# Label Encoding\n",
    "y_train = to_categorical(pd.factorize(train['label'])[0], num_classes=7)\n",
    "y_test = to_categorical(pd.factorize(test['label'])[0], num_classes=7)"
   ]
  },
  {
   "cell_type": "code",
   "execution_count": 8,
   "id": "706eff59-c201-4293-ae8e-092e4247696d",
   "metadata": {},
   "outputs": [],
   "source": [
    "# Data Augmentation\n",
    "datagen = ImageDataGenerator(\n",
    "    rotation_range=15,\n",
    "    width_shift_range=0.1,\n",
    "    height_shift_range=0.1,\n",
    "    horizontal_flip=True,\n",
    ")\n",
    "datagen.fit(x_train)"
   ]
  },
  {
   "cell_type": "code",
   "execution_count": 9,
   "id": "0bd66f78-2727-42f4-a936-b17039180a88",
   "metadata": {},
   "outputs": [
    {
     "name": "stderr",
     "output_type": "stream",
     "text": [
      "C:\\Users\\KIIT\\AppData\\Roaming\\Python\\Python312\\site-packages\\keras\\src\\layers\\convolutional\\base_conv.py:107: UserWarning: Do not pass an `input_shape`/`input_dim` argument to a layer. When using Sequential models, prefer using an `Input(shape)` object as the first layer in the model instead.\n",
      "  super().__init__(activity_regularizer=activity_regularizer, **kwargs)\n"
     ]
    }
   ],
   "source": [
    "# Model Definition\n",
    "model = Sequential()\n",
    "model.add(Conv2D(64, (3,3), activation='relu', input_shape=(48,48,1), kernel_regularizer=l2(0.01)))\n",
    "model.add(BatchNormalization())\n",
    "model.add(MaxPooling2D(pool_size=(2,2)))\n",
    "model.add(Dropout(0.3))\n",
    "\n",
    "model.add(Conv2D(128, (3,3), activation='relu', kernel_regularizer=l2(0.01)))\n",
    "model.add(BatchNormalization())\n",
    "model.add(MaxPooling2D(pool_size=(2,2)))\n",
    "model.add(Dropout(0.3))\n",
    "\n",
    "model.add(Conv2D(256, (3,3), activation='relu', kernel_regularizer=l2(0.01)))\n",
    "model.add(BatchNormalization())\n",
    "model.add(MaxPooling2D(pool_size=(2,2)))\n",
    "model.add(Dropout(0.3))\n",
    "\n",
    "model.add(Flatten())\n",
    "model.add(Dense(512, activation='relu'))\n",
    "model.add(Dropout(0.4))\n",
    "model.add(Dense(256, activation='relu'))\n",
    "model.add(Dropout(0.3))\n",
    "model.add(Dense(7, activation='softmax'))"
   ]
  },
  {
   "cell_type": "code",
   "execution_count": 10,
   "id": "7482e24d-885d-49f6-9854-5062d2253f28",
   "metadata": {},
   "outputs": [],
   "source": [
    "# Compile the Model\n",
    "model.compile(optimizer=Adamax(learning_rate=0.002), loss='categorical_crossentropy', metrics=['accuracy'])"
   ]
  },
  {
   "cell_type": "code",
   "execution_count": 11,
   "id": "aba0face-24e8-4d27-b84a-b1d796dcd2c4",
   "metadata": {},
   "outputs": [],
   "source": [
    "# Callbacks\n",
    "early_stopping = EarlyStopping(monitor='val_loss', patience=10, restore_best_weights=True)\n",
    "reduce_lr = ReduceLROnPlateau(monitor='val_loss', factor=0.5, patience=5, verbose=1)"
   ]
  },
  {
   "cell_type": "code",
   "execution_count": 12,
   "id": "4a70e804-b574-413c-aeba-fe5ce5e2d56e",
   "metadata": {},
   "outputs": [
    {
     "name": "stdout",
     "output_type": "stream",
     "text": [
      "Epoch 1/100\n"
     ]
    },
    {
     "name": "stderr",
     "output_type": "stream",
     "text": [
      "C:\\Users\\KIIT\\AppData\\Roaming\\Python\\Python312\\site-packages\\keras\\src\\trainers\\data_adapters\\py_dataset_adapter.py:121: UserWarning: Your `PyDataset` class should call `super().__init__(**kwargs)` in its constructor. `**kwargs` can include `workers`, `use_multiprocessing`, `max_queue_size`. Do not pass these arguments to `fit()`, as they will be ignored.\n",
      "  self._warn_if_super_not_called()\n"
     ]
    },
    {
     "name": "stdout",
     "output_type": "stream",
     "text": [
      "\u001b[1m451/451\u001b[0m \u001b[32m━━━━━━━━━━━━━━━━━━━━\u001b[0m\u001b[37m\u001b[0m \u001b[1m301s\u001b[0m 632ms/step - accuracy: 0.2099 - loss: 4.6403 - val_accuracy: 0.2593 - val_loss: 2.8248 - learning_rate: 0.0020\n",
      "Epoch 2/100\n",
      "\u001b[1m451/451\u001b[0m \u001b[32m━━━━━━━━━━━━━━━━━━━━\u001b[0m\u001b[37m\u001b[0m \u001b[1m193s\u001b[0m 427ms/step - accuracy: 0.2467 - loss: 2.6289 - val_accuracy: 0.3247 - val_loss: 2.1061 - learning_rate: 0.0020\n",
      "Epoch 3/100\n",
      "\u001b[1m451/451\u001b[0m \u001b[32m━━━━━━━━━━━━━━━━━━━━\u001b[0m\u001b[37m\u001b[0m \u001b[1m187s\u001b[0m 413ms/step - accuracy: 0.3086 - loss: 2.0791 - val_accuracy: 0.3740 - val_loss: 1.8848 - learning_rate: 0.0020\n",
      "Epoch 4/100\n",
      "\u001b[1m451/451\u001b[0m \u001b[32m━━━━━━━━━━━━━━━━━━━━\u001b[0m\u001b[37m\u001b[0m \u001b[1m165s\u001b[0m 365ms/step - accuracy: 0.3515 - loss: 1.8846 - val_accuracy: 0.4319 - val_loss: 1.7799 - learning_rate: 0.0020\n",
      "Epoch 5/100\n",
      "\u001b[1m451/451\u001b[0m \u001b[32m━━━━━━━━━━━━━━━━━━━━\u001b[0m\u001b[37m\u001b[0m \u001b[1m164s\u001b[0m 363ms/step - accuracy: 0.3868 - loss: 1.8042 - val_accuracy: 0.4519 - val_loss: 1.7248 - learning_rate: 0.0020\n",
      "Epoch 6/100\n",
      "\u001b[1m451/451\u001b[0m \u001b[32m━━━━━━━━━━━━━━━━━━━━\u001b[0m\u001b[37m\u001b[0m \u001b[1m168s\u001b[0m 371ms/step - accuracy: 0.4097 - loss: 1.7793 - val_accuracy: 0.4708 - val_loss: 1.6538 - learning_rate: 0.0020\n",
      "Epoch 7/100\n",
      "\u001b[1m451/451\u001b[0m \u001b[32m━━━━━━━━━━━━━━━━━━━━\u001b[0m\u001b[37m\u001b[0m \u001b[1m196s\u001b[0m 434ms/step - accuracy: 0.4264 - loss: 1.7499 - val_accuracy: 0.4693 - val_loss: 1.6785 - learning_rate: 0.0020\n",
      "Epoch 8/100\n",
      "\u001b[1m451/451\u001b[0m \u001b[32m━━━━━━━━━━━━━━━━━━━━\u001b[0m\u001b[37m\u001b[0m \u001b[1m172s\u001b[0m 380ms/step - accuracy: 0.4317 - loss: 1.7296 - val_accuracy: 0.4762 - val_loss: 1.6353 - learning_rate: 0.0020\n",
      "Epoch 9/100\n",
      "\u001b[1m451/451\u001b[0m \u001b[32m━━━━━━━━━━━━━━━━━━━━\u001b[0m\u001b[37m\u001b[0m \u001b[1m165s\u001b[0m 365ms/step - accuracy: 0.4392 - loss: 1.7260 - val_accuracy: 0.4791 - val_loss: 1.6575 - learning_rate: 0.0020\n",
      "Epoch 10/100\n",
      "\u001b[1m451/451\u001b[0m \u001b[32m━━━━━━━━━━━━━━━━━━━━\u001b[0m\u001b[37m\u001b[0m \u001b[1m166s\u001b[0m 368ms/step - accuracy: 0.4516 - loss: 1.6961 - val_accuracy: 0.4352 - val_loss: 1.7378 - learning_rate: 0.0020\n",
      "Epoch 11/100\n",
      "\u001b[1m451/451\u001b[0m \u001b[32m━━━━━━━━━━━━━━━━━━━━\u001b[0m\u001b[37m\u001b[0m \u001b[1m166s\u001b[0m 366ms/step - accuracy: 0.4540 - loss: 1.7019 - val_accuracy: 0.4691 - val_loss: 1.6552 - learning_rate: 0.0020\n",
      "Epoch 12/100\n",
      "\u001b[1m451/451\u001b[0m \u001b[32m━━━━━━━━━━━━━━━━━━━━\u001b[0m\u001b[37m\u001b[0m \u001b[1m166s\u001b[0m 366ms/step - accuracy: 0.4468 - loss: 1.7022 - val_accuracy: 0.4311 - val_loss: 1.7513 - learning_rate: 0.0020\n",
      "Epoch 13/100\n",
      "\u001b[1m451/451\u001b[0m \u001b[32m━━━━━━━━━━━━━━━━━━━━\u001b[0m\u001b[37m\u001b[0m \u001b[1m167s\u001b[0m 369ms/step - accuracy: 0.4705 - loss: 1.6656 - val_accuracy: 0.5098 - val_loss: 1.5735 - learning_rate: 0.0020\n",
      "Epoch 14/100\n",
      "\u001b[1m451/451\u001b[0m \u001b[32m━━━━━━━━━━━━━━━━━━━━\u001b[0m\u001b[37m\u001b[0m \u001b[1m164s\u001b[0m 364ms/step - accuracy: 0.4710 - loss: 1.6555 - val_accuracy: 0.5007 - val_loss: 1.5904 - learning_rate: 0.0020\n",
      "Epoch 15/100\n",
      "\u001b[1m451/451\u001b[0m \u001b[32m━━━━━━━━━━━━━━━━━━━━\u001b[0m\u001b[37m\u001b[0m \u001b[1m166s\u001b[0m 367ms/step - accuracy: 0.4660 - loss: 1.6556 - val_accuracy: 0.4864 - val_loss: 1.6490 - learning_rate: 0.0020\n",
      "Epoch 16/100\n",
      "\u001b[1m451/451\u001b[0m \u001b[32m━━━━━━━━━━━━━━━━━━━━\u001b[0m\u001b[37m\u001b[0m \u001b[1m165s\u001b[0m 365ms/step - accuracy: 0.4772 - loss: 1.6359 - val_accuracy: 0.5103 - val_loss: 1.5672 - learning_rate: 0.0020\n",
      "Epoch 17/100\n",
      "\u001b[1m451/451\u001b[0m \u001b[32m━━━━━━━━━━━━━━━━━━━━\u001b[0m\u001b[37m\u001b[0m \u001b[1m168s\u001b[0m 372ms/step - accuracy: 0.4767 - loss: 1.6315 - val_accuracy: 0.5075 - val_loss: 1.5202 - learning_rate: 0.0020\n",
      "Epoch 18/100\n",
      "\u001b[1m451/451\u001b[0m \u001b[32m━━━━━━━━━━━━━━━━━━━━\u001b[0m\u001b[37m\u001b[0m \u001b[1m166s\u001b[0m 367ms/step - accuracy: 0.4814 - loss: 1.6088 - val_accuracy: 0.4680 - val_loss: 1.6041 - learning_rate: 0.0020\n",
      "Epoch 19/100\n",
      "\u001b[1m451/451\u001b[0m \u001b[32m━━━━━━━━━━━━━━━━━━━━\u001b[0m\u001b[37m\u001b[0m \u001b[1m164s\u001b[0m 363ms/step - accuracy: 0.4780 - loss: 1.6246 - val_accuracy: 0.5062 - val_loss: 1.5455 - learning_rate: 0.0020\n",
      "Epoch 20/100\n",
      "\u001b[1m451/451\u001b[0m \u001b[32m━━━━━━━━━━━━━━━━━━━━\u001b[0m\u001b[37m\u001b[0m \u001b[1m165s\u001b[0m 365ms/step - accuracy: 0.4818 - loss: 1.6100 - val_accuracy: 0.5006 - val_loss: 1.5510 - learning_rate: 0.0020\n",
      "Epoch 21/100\n",
      "\u001b[1m451/451\u001b[0m \u001b[32m━━━━━━━━━━━━━━━━━━━━\u001b[0m\u001b[37m\u001b[0m \u001b[1m167s\u001b[0m 368ms/step - accuracy: 0.4868 - loss: 1.6054 - val_accuracy: 0.5072 - val_loss: 1.5254 - learning_rate: 0.0020\n",
      "Epoch 22/100\n",
      "\u001b[1m451/451\u001b[0m \u001b[32m━━━━━━━━━━━━━━━━━━━━\u001b[0m\u001b[37m\u001b[0m \u001b[1m0s\u001b[0m 346ms/step - accuracy: 0.4893 - loss: 1.5941\n",
      "Epoch 22: ReduceLROnPlateau reducing learning rate to 0.0010000000474974513.\n",
      "\u001b[1m451/451\u001b[0m \u001b[32m━━━━━━━━━━━━━━━━━━━━\u001b[0m\u001b[37m\u001b[0m \u001b[1m165s\u001b[0m 366ms/step - accuracy: 0.4893 - loss: 1.5941 - val_accuracy: 0.5198 - val_loss: 1.5340 - learning_rate: 0.0020\n",
      "Epoch 23/100\n",
      "\u001b[1m451/451\u001b[0m \u001b[32m━━━━━━━━━━━━━━━━━━━━\u001b[0m\u001b[37m\u001b[0m \u001b[1m165s\u001b[0m 365ms/step - accuracy: 0.5029 - loss: 1.5449 - val_accuracy: 0.5689 - val_loss: 1.3548 - learning_rate: 0.0010\n",
      "Epoch 24/100\n",
      "\u001b[1m451/451\u001b[0m \u001b[32m━━━━━━━━━━━━━━━━━━━━\u001b[0m\u001b[37m\u001b[0m \u001b[1m165s\u001b[0m 365ms/step - accuracy: 0.5191 - loss: 1.4691 - val_accuracy: 0.5471 - val_loss: 1.3722 - learning_rate: 0.0010\n",
      "Epoch 25/100\n",
      "\u001b[1m451/451\u001b[0m \u001b[32m━━━━━━━━━━━━━━━━━━━━\u001b[0m\u001b[37m\u001b[0m \u001b[1m165s\u001b[0m 365ms/step - accuracy: 0.5175 - loss: 1.4569 - val_accuracy: 0.5691 - val_loss: 1.3376 - learning_rate: 0.0010\n",
      "Epoch 26/100\n",
      "\u001b[1m451/451\u001b[0m \u001b[32m━━━━━━━━━━━━━━━━━━━━\u001b[0m\u001b[37m\u001b[0m \u001b[1m165s\u001b[0m 364ms/step - accuracy: 0.5233 - loss: 1.4386 - val_accuracy: 0.5344 - val_loss: 1.3793 - learning_rate: 0.0010\n",
      "Epoch 27/100\n",
      "\u001b[1m451/451\u001b[0m \u001b[32m━━━━━━━━━━━━━━━━━━━━\u001b[0m\u001b[37m\u001b[0m \u001b[1m165s\u001b[0m 365ms/step - accuracy: 0.5235 - loss: 1.4355 - val_accuracy: 0.5747 - val_loss: 1.3371 - learning_rate: 0.0010\n",
      "Epoch 28/100\n",
      "\u001b[1m451/451\u001b[0m \u001b[32m━━━━━━━━━━━━━━━━━━━━\u001b[0m\u001b[37m\u001b[0m \u001b[1m166s\u001b[0m 367ms/step - accuracy: 0.5202 - loss: 1.4296 - val_accuracy: 0.5092 - val_loss: 1.4790 - learning_rate: 0.0010\n",
      "Epoch 29/100\n",
      "\u001b[1m451/451\u001b[0m \u001b[32m━━━━━━━━━━━━━━━━━━━━\u001b[0m\u001b[37m\u001b[0m \u001b[1m167s\u001b[0m 370ms/step - accuracy: 0.5281 - loss: 1.4155 - val_accuracy: 0.5269 - val_loss: 1.3950 - learning_rate: 0.0010\n",
      "Epoch 30/100\n",
      "\u001b[1m451/451\u001b[0m \u001b[32m━━━━━━━━━━━━━━━━━━━━\u001b[0m\u001b[37m\u001b[0m \u001b[1m158s\u001b[0m 349ms/step - accuracy: 0.5244 - loss: 1.4191 - val_accuracy: 0.5736 - val_loss: 1.3322 - learning_rate: 0.0010\n",
      "Epoch 31/100\n",
      "\u001b[1m451/451\u001b[0m \u001b[32m━━━━━━━━━━━━━━━━━━━━\u001b[0m\u001b[37m\u001b[0m \u001b[1m158s\u001b[0m 349ms/step - accuracy: 0.5258 - loss: 1.4170 - val_accuracy: 0.5759 - val_loss: 1.2927 - learning_rate: 0.0010\n",
      "Epoch 32/100\n",
      "\u001b[1m451/451\u001b[0m \u001b[32m━━━━━━━━━━━━━━━━━━━━\u001b[0m\u001b[37m\u001b[0m \u001b[1m158s\u001b[0m 349ms/step - accuracy: 0.5300 - loss: 1.4029 - val_accuracy: 0.5760 - val_loss: 1.2957 - learning_rate: 0.0010\n",
      "Epoch 33/100\n",
      "\u001b[1m451/451\u001b[0m \u001b[32m━━━━━━━━━━━━━━━━━━━━\u001b[0m\u001b[37m\u001b[0m \u001b[1m157s\u001b[0m 348ms/step - accuracy: 0.5304 - loss: 1.4076 - val_accuracy: 0.5751 - val_loss: 1.2953 - learning_rate: 0.0010\n",
      "Epoch 34/100\n",
      "\u001b[1m451/451\u001b[0m \u001b[32m━━━━━━━━━━━━━━━━━━━━\u001b[0m\u001b[37m\u001b[0m \u001b[1m156s\u001b[0m 346ms/step - accuracy: 0.5365 - loss: 1.3991 - val_accuracy: 0.5661 - val_loss: 1.3267 - learning_rate: 0.0010\n",
      "Epoch 35/100\n",
      "\u001b[1m451/451\u001b[0m \u001b[32m━━━━━━━━━━━━━━━━━━━━\u001b[0m\u001b[37m\u001b[0m \u001b[1m157s\u001b[0m 348ms/step - accuracy: 0.5373 - loss: 1.3936 - val_accuracy: 0.5511 - val_loss: 1.3658 - learning_rate: 0.0010\n",
      "Epoch 36/100\n",
      "\u001b[1m451/451\u001b[0m \u001b[32m━━━━━━━━━━━━━━━━━━━━\u001b[0m\u001b[37m\u001b[0m \u001b[1m157s\u001b[0m 347ms/step - accuracy: 0.5307 - loss: 1.4042 - val_accuracy: 0.5916 - val_loss: 1.2651 - learning_rate: 0.0010\n",
      "Epoch 37/100\n",
      "\u001b[1m451/451\u001b[0m \u001b[32m━━━━━━━━━━━━━━━━━━━━\u001b[0m\u001b[37m\u001b[0m \u001b[1m157s\u001b[0m 348ms/step - accuracy: 0.5328 - loss: 1.3947 - val_accuracy: 0.5501 - val_loss: 1.3314 - learning_rate: 0.0010\n",
      "Epoch 38/100\n",
      "\u001b[1m451/451\u001b[0m \u001b[32m━━━━━━━━━━━━━━━━━━━━\u001b[0m\u001b[37m\u001b[0m \u001b[1m161s\u001b[0m 355ms/step - accuracy: 0.5419 - loss: 1.3795 - val_accuracy: 0.5021 - val_loss: 1.4802 - learning_rate: 0.0010\n",
      "Epoch 39/100\n",
      "\u001b[1m451/451\u001b[0m \u001b[32m━━━━━━━━━━━━━━━━━━━━\u001b[0m\u001b[37m\u001b[0m \u001b[1m159s\u001b[0m 350ms/step - accuracy: 0.5372 - loss: 1.3894 - val_accuracy: 0.5696 - val_loss: 1.3055 - learning_rate: 0.0010\n",
      "Epoch 40/100\n",
      "\u001b[1m451/451\u001b[0m \u001b[32m━━━━━━━━━━━━━━━━━━━━\u001b[0m\u001b[37m\u001b[0m \u001b[1m159s\u001b[0m 352ms/step - accuracy: 0.5421 - loss: 1.3841 - val_accuracy: 0.5906 - val_loss: 1.2597 - learning_rate: 0.0010\n",
      "Epoch 41/100\n",
      "\u001b[1m451/451\u001b[0m \u001b[32m━━━━━━━━━━━━━━━━━━━━\u001b[0m\u001b[37m\u001b[0m \u001b[1m158s\u001b[0m 349ms/step - accuracy: 0.5372 - loss: 1.3862 - val_accuracy: 0.5456 - val_loss: 1.3748 - learning_rate: 0.0010\n",
      "Epoch 42/100\n",
      "\u001b[1m451/451\u001b[0m \u001b[32m━━━━━━━━━━━━━━━━━━━━\u001b[0m\u001b[37m\u001b[0m \u001b[1m157s\u001b[0m 347ms/step - accuracy: 0.5389 - loss: 1.3809 - val_accuracy: 0.5879 - val_loss: 1.2603 - learning_rate: 0.0010\n",
      "Epoch 43/100\n",
      "\u001b[1m451/451\u001b[0m \u001b[32m━━━━━━━━━━━━━━━━━━━━\u001b[0m\u001b[37m\u001b[0m \u001b[1m158s\u001b[0m 350ms/step - accuracy: 0.5453 - loss: 1.3712 - val_accuracy: 0.5764 - val_loss: 1.2829 - learning_rate: 0.0010\n",
      "Epoch 44/100\n",
      "\u001b[1m451/451\u001b[0m \u001b[32m━━━━━━━━━━━━━━━━━━━━\u001b[0m\u001b[37m\u001b[0m \u001b[1m159s\u001b[0m 351ms/step - accuracy: 0.5419 - loss: 1.3783 - val_accuracy: 0.5672 - val_loss: 1.2901 - learning_rate: 0.0010\n",
      "Epoch 45/100\n",
      "\u001b[1m451/451\u001b[0m \u001b[32m━━━━━━━━━━━━━━━━━━━━\u001b[0m\u001b[37m\u001b[0m \u001b[1m159s\u001b[0m 352ms/step - accuracy: 0.5417 - loss: 1.3712 - val_accuracy: 0.5843 - val_loss: 1.2567 - learning_rate: 0.0010\n",
      "Epoch 46/100\n",
      "\u001b[1m451/451\u001b[0m \u001b[32m━━━━━━━━━━━━━━━━━━━━\u001b[0m\u001b[37m\u001b[0m \u001b[1m160s\u001b[0m 353ms/step - accuracy: 0.5485 - loss: 1.3528 - val_accuracy: 0.5335 - val_loss: 1.4190 - learning_rate: 0.0010\n",
      "Epoch 47/100\n",
      "\u001b[1m451/451\u001b[0m \u001b[32m━━━━━━━━━━━━━━━━━━━━\u001b[0m\u001b[37m\u001b[0m \u001b[1m158s\u001b[0m 350ms/step - accuracy: 0.5474 - loss: 1.3586 - val_accuracy: 0.5909 - val_loss: 1.2611 - learning_rate: 0.0010\n",
      "Epoch 48/100\n",
      "\u001b[1m451/451\u001b[0m \u001b[32m━━━━━━━━━━━━━━━━━━━━\u001b[0m\u001b[37m\u001b[0m \u001b[1m158s\u001b[0m 351ms/step - accuracy: 0.5455 - loss: 1.3704 - val_accuracy: 0.5092 - val_loss: 1.4564 - learning_rate: 0.0010\n",
      "Epoch 49/100\n",
      "\u001b[1m451/451\u001b[0m \u001b[32m━━━━━━━━━━━━━━━━━━━━\u001b[0m\u001b[37m\u001b[0m \u001b[1m158s\u001b[0m 349ms/step - accuracy: 0.5490 - loss: 1.3602 - val_accuracy: 0.6005 - val_loss: 1.2366 - learning_rate: 0.0010\n",
      "Epoch 50/100\n",
      "\u001b[1m451/451\u001b[0m \u001b[32m━━━━━━━━━━━━━━━━━━━━\u001b[0m\u001b[37m\u001b[0m \u001b[1m158s\u001b[0m 349ms/step - accuracy: 0.5456 - loss: 1.3697 - val_accuracy: 0.5776 - val_loss: 1.2870 - learning_rate: 0.0010\n",
      "Epoch 51/100\n",
      "\u001b[1m451/451\u001b[0m \u001b[32m━━━━━━━━━━━━━━━━━━━━\u001b[0m\u001b[37m\u001b[0m \u001b[1m158s\u001b[0m 349ms/step - accuracy: 0.5444 - loss: 1.3722 - val_accuracy: 0.5896 - val_loss: 1.2484 - learning_rate: 0.0010\n",
      "Epoch 52/100\n",
      "\u001b[1m451/451\u001b[0m \u001b[32m━━━━━━━━━━━━━━━━━━━━\u001b[0m\u001b[37m\u001b[0m \u001b[1m158s\u001b[0m 348ms/step - accuracy: 0.5523 - loss: 1.3506 - val_accuracy: 0.5804 - val_loss: 1.2741 - learning_rate: 0.0010\n",
      "Epoch 53/100\n",
      "\u001b[1m451/451\u001b[0m \u001b[32m━━━━━━━━━━━━━━━━━━━━\u001b[0m\u001b[37m\u001b[0m \u001b[1m158s\u001b[0m 349ms/step - accuracy: 0.5475 - loss: 1.3607 - val_accuracy: 0.5838 - val_loss: 1.2698 - learning_rate: 0.0010\n",
      "Epoch 54/100\n",
      "\u001b[1m451/451\u001b[0m \u001b[32m━━━━━━━━━━━━━━━━━━━━\u001b[0m\u001b[37m\u001b[0m \u001b[1m0s\u001b[0m 333ms/step - accuracy: 0.5556 - loss: 1.3497\n",
      "Epoch 54: ReduceLROnPlateau reducing learning rate to 0.0005000000237487257.\n",
      "\u001b[1m451/451\u001b[0m \u001b[32m━━━━━━━━━━━━━━━━━━━━\u001b[0m\u001b[37m\u001b[0m \u001b[1m159s\u001b[0m 351ms/step - accuracy: 0.5556 - loss: 1.3497 - val_accuracy: 0.5869 - val_loss: 1.2613 - learning_rate: 0.0010\n",
      "Epoch 55/100\n",
      "\u001b[1m451/451\u001b[0m \u001b[32m━━━━━━━━━━━━━━━━━━━━\u001b[0m\u001b[37m\u001b[0m \u001b[1m158s\u001b[0m 350ms/step - accuracy: 0.5613 - loss: 1.3158 - val_accuracy: 0.5981 - val_loss: 1.2217 - learning_rate: 5.0000e-04\n",
      "Epoch 56/100\n",
      "\u001b[1m451/451\u001b[0m \u001b[32m━━━━━━━━━━━━━━━━━━━━\u001b[0m\u001b[37m\u001b[0m \u001b[1m158s\u001b[0m 349ms/step - accuracy: 0.5643 - loss: 1.2850 - val_accuracy: 0.6033 - val_loss: 1.1929 - learning_rate: 5.0000e-04\n",
      "Epoch 57/100\n",
      "\u001b[1m451/451\u001b[0m \u001b[32m━━━━━━━━━━━━━━━━━━━━\u001b[0m\u001b[37m\u001b[0m \u001b[1m158s\u001b[0m 349ms/step - accuracy: 0.5667 - loss: 1.2789 - val_accuracy: 0.6056 - val_loss: 1.1744 - learning_rate: 5.0000e-04\n",
      "Epoch 58/100\n",
      "\u001b[1m451/451\u001b[0m \u001b[32m━━━━━━━━━━━━━━━━━━━━\u001b[0m\u001b[37m\u001b[0m \u001b[1m159s\u001b[0m 353ms/step - accuracy: 0.5779 - loss: 1.2575 - val_accuracy: 0.6073 - val_loss: 1.1721 - learning_rate: 5.0000e-04\n",
      "Epoch 59/100\n",
      "\u001b[1m451/451\u001b[0m \u001b[32m━━━━━━━━━━━━━━━━━━━━\u001b[0m\u001b[37m\u001b[0m \u001b[1m158s\u001b[0m 348ms/step - accuracy: 0.5701 - loss: 1.2587 - val_accuracy: 0.6015 - val_loss: 1.1794 - learning_rate: 5.0000e-04\n",
      "Epoch 60/100\n",
      "\u001b[1m451/451\u001b[0m \u001b[32m━━━━━━━━━━━━━━━━━━━━\u001b[0m\u001b[37m\u001b[0m \u001b[1m167s\u001b[0m 370ms/step - accuracy: 0.5744 - loss: 1.2448 - val_accuracy: 0.6127 - val_loss: 1.1492 - learning_rate: 5.0000e-04\n",
      "Epoch 61/100\n",
      "\u001b[1m451/451\u001b[0m \u001b[32m━━━━━━━━━━━━━━━━━━━━\u001b[0m\u001b[37m\u001b[0m \u001b[1m159s\u001b[0m 352ms/step - accuracy: 0.5704 - loss: 1.2476 - val_accuracy: 0.6125 - val_loss: 1.1600 - learning_rate: 5.0000e-04\n",
      "Epoch 62/100\n",
      "\u001b[1m451/451\u001b[0m \u001b[32m━━━━━━━━━━━━━━━━━━━━\u001b[0m\u001b[37m\u001b[0m \u001b[1m158s\u001b[0m 349ms/step - accuracy: 0.5749 - loss: 1.2513 - val_accuracy: 0.5896 - val_loss: 1.1945 - learning_rate: 5.0000e-04\n",
      "Epoch 63/100\n",
      "\u001b[1m451/451\u001b[0m \u001b[32m━━━━━━━━━━━━━━━━━━━━\u001b[0m\u001b[37m\u001b[0m \u001b[1m159s\u001b[0m 351ms/step - accuracy: 0.5760 - loss: 1.2339 - val_accuracy: 0.6159 - val_loss: 1.1446 - learning_rate: 5.0000e-04\n",
      "Epoch 64/100\n",
      "\u001b[1m451/451\u001b[0m \u001b[32m━━━━━━━━━━━━━━━━━━━━\u001b[0m\u001b[37m\u001b[0m \u001b[1m159s\u001b[0m 352ms/step - accuracy: 0.5764 - loss: 1.2352 - val_accuracy: 0.5998 - val_loss: 1.1717 - learning_rate: 5.0000e-04\n",
      "Epoch 65/100\n",
      "\u001b[1m451/451\u001b[0m \u001b[32m━━━━━━━━━━━━━━━━━━━━\u001b[0m\u001b[37m\u001b[0m \u001b[1m159s\u001b[0m 351ms/step - accuracy: 0.5758 - loss: 1.2312 - val_accuracy: 0.6180 - val_loss: 1.1324 - learning_rate: 5.0000e-04\n",
      "Epoch 66/100\n",
      "\u001b[1m451/451\u001b[0m \u001b[32m━━━━━━━━━━━━━━━━━━━━\u001b[0m\u001b[37m\u001b[0m \u001b[1m159s\u001b[0m 351ms/step - accuracy: 0.5795 - loss: 1.2372 - val_accuracy: 0.5879 - val_loss: 1.2045 - learning_rate: 5.0000e-04\n",
      "Epoch 67/100\n",
      "\u001b[1m451/451\u001b[0m \u001b[32m━━━━━━━━━━━━━━━━━━━━\u001b[0m\u001b[37m\u001b[0m \u001b[1m160s\u001b[0m 353ms/step - accuracy: 0.5756 - loss: 1.2379 - val_accuracy: 0.6110 - val_loss: 1.1471 - learning_rate: 5.0000e-04\n",
      "Epoch 68/100\n",
      "\u001b[1m451/451\u001b[0m \u001b[32m━━━━━━━━━━━━━━━━━━━━\u001b[0m\u001b[37m\u001b[0m \u001b[1m159s\u001b[0m 351ms/step - accuracy: 0.5799 - loss: 1.2394 - val_accuracy: 0.6186 - val_loss: 1.1294 - learning_rate: 5.0000e-04\n",
      "Epoch 69/100\n",
      "\u001b[1m451/451\u001b[0m \u001b[32m━━━━━━━━━━━━━━━━━━━━\u001b[0m\u001b[37m\u001b[0m \u001b[1m160s\u001b[0m 353ms/step - accuracy: 0.5768 - loss: 1.2334 - val_accuracy: 0.6077 - val_loss: 1.1656 - learning_rate: 5.0000e-04\n",
      "Epoch 70/100\n",
      "\u001b[1m451/451\u001b[0m \u001b[32m━━━━━━━━━━━━━━━━━━━━\u001b[0m\u001b[37m\u001b[0m \u001b[1m160s\u001b[0m 354ms/step - accuracy: 0.5757 - loss: 1.2289 - val_accuracy: 0.6298 - val_loss: 1.1131 - learning_rate: 5.0000e-04\n",
      "Epoch 71/100\n",
      "\u001b[1m451/451\u001b[0m \u001b[32m━━━━━━━━━━━━━━━━━━━━\u001b[0m\u001b[37m\u001b[0m \u001b[1m195s\u001b[0m 339ms/step - accuracy: 0.5770 - loss: 1.2301 - val_accuracy: 0.6029 - val_loss: 1.1647 - learning_rate: 5.0000e-04\n",
      "Epoch 72/100\n",
      "\u001b[1m451/451\u001b[0m \u001b[32m━━━━━━━━━━━━━━━━━━━━\u001b[0m\u001b[37m\u001b[0m \u001b[1m156s\u001b[0m 346ms/step - accuracy: 0.5734 - loss: 1.2346 - val_accuracy: 0.5921 - val_loss: 1.1981 - learning_rate: 5.0000e-04\n",
      "Epoch 73/100\n",
      "\u001b[1m451/451\u001b[0m \u001b[32m━━━━━━━━━━━━━━━━━━━━\u001b[0m\u001b[37m\u001b[0m \u001b[1m157s\u001b[0m 347ms/step - accuracy: 0.5714 - loss: 1.2418 - val_accuracy: 0.5958 - val_loss: 1.1710 - learning_rate: 5.0000e-04\n",
      "Epoch 74/100\n",
      "\u001b[1m451/451\u001b[0m \u001b[32m━━━━━━━━━━━━━━━━━━━━\u001b[0m\u001b[37m\u001b[0m \u001b[1m157s\u001b[0m 348ms/step - accuracy: 0.5721 - loss: 1.2274 - val_accuracy: 0.6114 - val_loss: 1.1443 - learning_rate: 5.0000e-04\n",
      "Epoch 75/100\n",
      "\u001b[1m451/451\u001b[0m \u001b[32m━━━━━━━━━━━━━━━━━━━━\u001b[0m\u001b[37m\u001b[0m \u001b[1m0s\u001b[0m 328ms/step - accuracy: 0.5847 - loss: 1.2228\n",
      "Epoch 75: ReduceLROnPlateau reducing learning rate to 0.0002500000118743628.\n",
      "\u001b[1m451/451\u001b[0m \u001b[32m━━━━━━━━━━━━━━━━━━━━\u001b[0m\u001b[37m\u001b[0m \u001b[1m157s\u001b[0m 346ms/step - accuracy: 0.5847 - loss: 1.2228 - val_accuracy: 0.6066 - val_loss: 1.1486 - learning_rate: 5.0000e-04\n",
      "Epoch 76/100\n",
      "\u001b[1m451/451\u001b[0m \u001b[32m━━━━━━━━━━━━━━━━━━━━\u001b[0m\u001b[37m\u001b[0m \u001b[1m157s\u001b[0m 347ms/step - accuracy: 0.5826 - loss: 1.2097 - val_accuracy: 0.6163 - val_loss: 1.1293 - learning_rate: 2.5000e-04\n",
      "Epoch 77/100\n",
      "\u001b[1m451/451\u001b[0m \u001b[32m━━━━━━━━━━━━━━━━━━━━\u001b[0m\u001b[37m\u001b[0m \u001b[1m157s\u001b[0m 347ms/step - accuracy: 0.5884 - loss: 1.1959 - val_accuracy: 0.6245 - val_loss: 1.0972 - learning_rate: 2.5000e-04\n",
      "Epoch 78/100\n",
      "\u001b[1m451/451\u001b[0m \u001b[32m━━━━━━━━━━━━━━━━━━━━\u001b[0m\u001b[37m\u001b[0m \u001b[1m158s\u001b[0m 350ms/step - accuracy: 0.5890 - loss: 1.1887 - val_accuracy: 0.6252 - val_loss: 1.1044 - learning_rate: 2.5000e-04\n",
      "Epoch 79/100\n",
      "\u001b[1m451/451\u001b[0m \u001b[32m━━━━━━━━━━━━━━━━━━━━\u001b[0m\u001b[37m\u001b[0m \u001b[1m157s\u001b[0m 348ms/step - accuracy: 0.5870 - loss: 1.1847 - val_accuracy: 0.6248 - val_loss: 1.1114 - learning_rate: 2.5000e-04\n",
      "Epoch 80/100\n",
      "\u001b[1m451/451\u001b[0m \u001b[32m━━━━━━━━━━━━━━━━━━━━\u001b[0m\u001b[37m\u001b[0m \u001b[1m158s\u001b[0m 349ms/step - accuracy: 0.5879 - loss: 1.1870 - val_accuracy: 0.6296 - val_loss: 1.0905 - learning_rate: 2.5000e-04\n",
      "Epoch 81/100\n",
      "\u001b[1m451/451\u001b[0m \u001b[32m━━━━━━━━━━━━━━━━━━━━\u001b[0m\u001b[37m\u001b[0m \u001b[1m157s\u001b[0m 347ms/step - accuracy: 0.5926 - loss: 1.1801 - val_accuracy: 0.6360 - val_loss: 1.0759 - learning_rate: 2.5000e-04\n",
      "Epoch 82/100\n",
      "\u001b[1m451/451\u001b[0m \u001b[32m━━━━━━━━━━━━━━━━━━━━\u001b[0m\u001b[37m\u001b[0m \u001b[1m157s\u001b[0m 348ms/step - accuracy: 0.5955 - loss: 1.1691 - val_accuracy: 0.6183 - val_loss: 1.1065 - learning_rate: 2.5000e-04\n",
      "Epoch 83/100\n",
      "\u001b[1m451/451\u001b[0m \u001b[32m━━━━━━━━━━━━━━━━━━━━\u001b[0m\u001b[37m\u001b[0m \u001b[1m158s\u001b[0m 349ms/step - accuracy: 0.5967 - loss: 1.1616 - val_accuracy: 0.6162 - val_loss: 1.1211 - learning_rate: 2.5000e-04\n",
      "Epoch 84/100\n",
      "\u001b[1m451/451\u001b[0m \u001b[32m━━━━━━━━━━━━━━━━━━━━\u001b[0m\u001b[37m\u001b[0m \u001b[1m159s\u001b[0m 352ms/step - accuracy: 0.5954 - loss: 1.1616 - val_accuracy: 0.6213 - val_loss: 1.0997 - learning_rate: 2.5000e-04\n",
      "Epoch 85/100\n",
      "\u001b[1m451/451\u001b[0m \u001b[32m━━━━━━━━━━━━━━━━━━━━\u001b[0m\u001b[37m\u001b[0m \u001b[1m157s\u001b[0m 348ms/step - accuracy: 0.5931 - loss: 1.1636 - val_accuracy: 0.6294 - val_loss: 1.0882 - learning_rate: 2.5000e-04\n",
      "Epoch 86/100\n",
      "\u001b[1m451/451\u001b[0m \u001b[32m━━━━━━━━━━━━━━━━━━━━\u001b[0m\u001b[37m\u001b[0m \u001b[1m158s\u001b[0m 350ms/step - accuracy: 0.5953 - loss: 1.1541 - val_accuracy: 0.6316 - val_loss: 1.0686 - learning_rate: 2.5000e-04\n",
      "Epoch 87/100\n",
      "\u001b[1m451/451\u001b[0m \u001b[32m━━━━━━━━━━━━━━━━━━━━\u001b[0m\u001b[37m\u001b[0m \u001b[1m158s\u001b[0m 349ms/step - accuracy: 0.5982 - loss: 1.1572 - val_accuracy: 0.6380 - val_loss: 1.0671 - learning_rate: 2.5000e-04\n",
      "Epoch 88/100\n",
      "\u001b[1m451/451\u001b[0m \u001b[32m━━━━━━━━━━━━━━━━━━━━\u001b[0m\u001b[37m\u001b[0m \u001b[1m157s\u001b[0m 348ms/step - accuracy: 0.5980 - loss: 1.1460 - val_accuracy: 0.6241 - val_loss: 1.0861 - learning_rate: 2.5000e-04\n",
      "Epoch 89/100\n",
      "\u001b[1m451/451\u001b[0m \u001b[32m━━━━━━━━━━━━━━━━━━━━\u001b[0m\u001b[37m\u001b[0m \u001b[1m157s\u001b[0m 347ms/step - accuracy: 0.5996 - loss: 1.1472 - val_accuracy: 0.6309 - val_loss: 1.0778 - learning_rate: 2.5000e-04\n",
      "Epoch 90/100\n",
      "\u001b[1m451/451\u001b[0m \u001b[32m━━━━━━━━━━━━━━━━━━━━\u001b[0m\u001b[37m\u001b[0m \u001b[1m157s\u001b[0m 348ms/step - accuracy: 0.6009 - loss: 1.1415 - val_accuracy: 0.6156 - val_loss: 1.1186 - learning_rate: 2.5000e-04\n",
      "Epoch 91/100\n",
      "\u001b[1m451/451\u001b[0m \u001b[32m━━━━━━━━━━━━━━━━━━━━\u001b[0m\u001b[37m\u001b[0m \u001b[1m157s\u001b[0m 347ms/step - accuracy: 0.6004 - loss: 1.1445 - val_accuracy: 0.6326 - val_loss: 1.0702 - learning_rate: 2.5000e-04\n",
      "Epoch 92/100\n",
      "\u001b[1m451/451\u001b[0m \u001b[32m━━━━━━━━━━━━━━━━━━━━\u001b[0m\u001b[37m\u001b[0m \u001b[1m0s\u001b[0m 331ms/step - accuracy: 0.6019 - loss: 1.1427\n",
      "Epoch 92: ReduceLROnPlateau reducing learning rate to 0.0001250000059371814.\n",
      "\u001b[1m451/451\u001b[0m \u001b[32m━━━━━━━━━━━━━━━━━━━━\u001b[0m\u001b[37m\u001b[0m \u001b[1m158s\u001b[0m 349ms/step - accuracy: 0.6019 - loss: 1.1427 - val_accuracy: 0.6111 - val_loss: 1.1081 - learning_rate: 2.5000e-04\n",
      "Epoch 93/100\n",
      "\u001b[1m451/451\u001b[0m \u001b[32m━━━━━━━━━━━━━━━━━━━━\u001b[0m\u001b[37m\u001b[0m \u001b[1m157s\u001b[0m 347ms/step - accuracy: 0.6045 - loss: 1.1316 - val_accuracy: 0.6347 - val_loss: 1.0700 - learning_rate: 1.2500e-04\n",
      "Epoch 94/100\n",
      "\u001b[1m451/451\u001b[0m \u001b[32m━━━━━━━━━━━━━━━━━━━━\u001b[0m\u001b[37m\u001b[0m \u001b[1m157s\u001b[0m 348ms/step - accuracy: 0.6051 - loss: 1.1354 - val_accuracy: 0.6318 - val_loss: 1.0711 - learning_rate: 1.2500e-04\n",
      "Epoch 95/100\n",
      "\u001b[1m451/451\u001b[0m \u001b[32m━━━━━━━━━━━━━━━━━━━━\u001b[0m\u001b[37m\u001b[0m \u001b[1m157s\u001b[0m 348ms/step - accuracy: 0.6058 - loss: 1.1323 - val_accuracy: 0.6438 - val_loss: 1.0402 - learning_rate: 1.2500e-04\n",
      "Epoch 96/100\n",
      "\u001b[1m451/451\u001b[0m \u001b[32m━━━━━━━━━━━━━━━━━━━━\u001b[0m\u001b[37m\u001b[0m \u001b[1m157s\u001b[0m 347ms/step - accuracy: 0.6091 - loss: 1.1227 - val_accuracy: 0.6380 - val_loss: 1.0532 - learning_rate: 1.2500e-04\n",
      "Epoch 97/100\n",
      "\u001b[1m451/451\u001b[0m \u001b[32m━━━━━━━━━━━━━━━━━━━━\u001b[0m\u001b[37m\u001b[0m \u001b[1m157s\u001b[0m 347ms/step - accuracy: 0.6002 - loss: 1.1212 - val_accuracy: 0.6281 - val_loss: 1.0809 - learning_rate: 1.2500e-04\n",
      "Epoch 98/100\n",
      "\u001b[1m451/451\u001b[0m \u001b[32m━━━━━━━━━━━━━━━━━━━━\u001b[0m\u001b[37m\u001b[0m \u001b[1m157s\u001b[0m 348ms/step - accuracy: 0.6012 - loss: 1.1223 - val_accuracy: 0.6309 - val_loss: 1.0675 - learning_rate: 1.2500e-04\n",
      "Epoch 99/100\n",
      "\u001b[1m451/451\u001b[0m \u001b[32m━━━━━━━━━━━━━━━━━━━━\u001b[0m\u001b[37m\u001b[0m \u001b[1m157s\u001b[0m 347ms/step - accuracy: 0.6052 - loss: 1.1233 - val_accuracy: 0.6373 - val_loss: 1.0569 - learning_rate: 1.2500e-04\n",
      "Epoch 100/100\n",
      "\u001b[1m451/451\u001b[0m \u001b[32m━━━━━━━━━━━━━━━━━━━━\u001b[0m\u001b[37m\u001b[0m \u001b[1m0s\u001b[0m 329ms/step - accuracy: 0.6022 - loss: 1.1202\n",
      "Epoch 100: ReduceLROnPlateau reducing learning rate to 6.25000029685907e-05.\n",
      "\u001b[1m451/451\u001b[0m \u001b[32m━━━━━━━━━━━━━━━━━━━━\u001b[0m\u001b[37m\u001b[0m \u001b[1m157s\u001b[0m 347ms/step - accuracy: 0.6022 - loss: 1.1202 - val_accuracy: 0.6286 - val_loss: 1.0716 - learning_rate: 1.2500e-04\n"
     ]
    }
   ],
   "source": [
    "# Train the Model\n",
    "model_training = model.fit(datagen.flow(x_train, y_train, batch_size=64),\n",
    "                    validation_data=(x_test, y_test),\n",
    "                    epochs=100,\n",
    "                    callbacks=[early_stopping, reduce_lr])"
   ]
  },
  {
   "cell_type": "code",
   "execution_count": 13,
   "id": "d6e7f0dd-1e54-4a66-b693-af09aac6c6f5",
   "metadata": {},
   "outputs": [
    {
     "data": {
      "image/png": "[encoded data removed]",
      "text/plain": [
       "<Figure size 1200x400 with 2 Axes>"
      ]
     },
     "metadata": {},
     "output_type": "display_data"
    }
   ],
   "source": [
    "plt.figure(figsize=(12, 4))\n",
    "plt.subplot(1, 2, 1)\n",
    "plt.plot(model_training.history['accuracy'], label='Train Accuracy')\n",
    "plt.plot(model_training.history['val_accuracy'], label='Validation Accuracy')\n",
    "plt.xlabel('Epochs')\n",
    "plt.ylabel('Accuracy')\n",
    "plt.legend()\n",
    "plt.title('Model Accuracy')\n",
    "\n",
    "plt.subplot(1, 2, 2)\n",
    "plt.plot(model_training.history['loss'], label='Train Loss')\n",
    "plt.plot(model_training.history['val_loss'], label='Validation Loss')\n",
    "plt.xlabel('Epochs')\n",
    "plt.ylabel('Loss')\n",
    "plt.legend()\n",
    "plt.title('Model Loss')\n",
    "plt.show()"
   ]
  },
  {
   "cell_type": "code",
   "execution_count": 14,
   "id": "4362c81b-6574-4be7-8c90-c10856dd963d",
   "metadata": {},
   "outputs": [
    {
     "name": "stderr",
     "output_type": "stream",
     "text": [
      "WARNING:absl:You are saving your model as an HDF5 file via `model.save()` or `keras.saving.save_model(model)`. This file format is considered legacy. We recommend using instead the native Keras format, e.g. `model.save('my_model.keras')` or `keras.saving.save_model(model, 'my_model.keras')`. \n"
     ]
    }
   ],
   "source": [
    "model.save(\"emotiondetector_full.h5\")"
   ]
  },
  {
   "cell_type": "code",
   "execution_count": 15,
   "id": "584d91f6-00cf-4695-9d94-effbb9c0cc90",
   "metadata": {},
   "outputs": [
    {
     "name": "stderr",
     "output_type": "stream",
     "text": [
      "WARNING:absl:Compiled the loaded model, but the compiled metrics have yet to be built. `model.compile_metrics` will be empty until you train or evaluate the model.\n"
     ]
    }
   ],
   "source": [
    "from keras.models import load_model\n",
    "model = load_model(\"emotiondetector_full.h5\")"
   ]
  },
  {
   "cell_type": "code",
   "execution_count": 16,
   "id": "d69a86bc-5467-4ba2-bae6-f0baa758acda",
   "metadata": {},
   "outputs": [],
   "source": [
    "from keras_preprocessing.image import img_to_array"
   ]
  },
  {
   "cell_type": "code",
   "execution_count": 17,
   "id": "6701d8df-26e5-4041-854e-c2a0ad798474",
   "metadata": {},
   "outputs": [],
   "source": [
    "label = ['angry', 'disgust', 'fear', 'happy', 'neutral', 'sad', 'surprise']"
   ]
  },
  {
   "cell_type": "code",
   "execution_count": 18,
   "id": "d2e7a829-f055-456d-af4a-277fe42c858d",
   "metadata": {},
   "outputs": [],
   "source": [
    "def preprocess_image(image):\n",
    "    img = load_img(image, color_mode=\"grayscale\", target_size=(48, 48))\n",
    "    img = img_to_array(img) / 255.0  # Converts to NumPy array and normalizes\n",
    "    img = np.expand_dims(img, axis=0)  # Adding batch dimension\n",
    "    return img"
   ]
  },
  {
   "cell_type": "code",
   "execution_count": 19,
   "id": "18b03988-18b0-4e55-8a64-106b5dd873c9",
   "metadata": {},
   "outputs": [
    {
     "name": "stdout",
     "output_type": "stream",
     "text": [
      "Original image is of: Sad\n",
      "\u001b[1m1/1\u001b[0m \u001b[32m━━━━━━━━━━━━━━━━━━━━\u001b[0m\u001b[37m\u001b[0m \u001b[1m0s\u001b[0m 282ms/step\n",
      "Model prediction is: sad\n"
     ]
    }
   ],
   "source": [
    "image = 'images/train/sad/42.jpg'\n",
    "print(\"Original image is of: Sad\")\n",
    "\n",
    "img = preprocess_image(image)  # Using the new function\n",
    "pred = model.predict(img)\n",
    "pred_label = label[np.argmax(pred)]  # Ensure correct indexing\n",
    "\n",
    "print(\"Model prediction is:\", pred_label)"
   ]
  },
  {
   "cell_type": "code",
   "execution_count": 28,
   "id": "44af66ab-992b-408a-8065-1bb8a445d11f",
   "metadata": {},
   "outputs": [
    {
     "name": "stdout",
     "output_type": "stream",
     "text": [
      "Original image is of: Sad\n",
      "\u001b[1m1/1\u001b[0m \u001b[32m━━━━━━━━━━━━━━━━━━━━\u001b[0m\u001b[37m\u001b[0m \u001b[1m0s\u001b[0m 29ms/step\n",
      "Model prediction is: sad\n"
     ]
    },
    {
     "data": {
      "text/plain": [
       "<matplotlib.image.AxesImage at 0x1e017a6ed50>"
      ]
     },
     "execution_count": 28,
     "metadata": {},
     "output_type": "execute_result"
    },
    {
     "data": {
      "image/png": "[encoded data removed]",
      "text/plain": [
       "<Figure size 640x480 with 1 Axes>"
      ]
     },
     "metadata": {},
     "output_type": "display_data"
    }
   ],
   "source": [
    "image = 'images/train/sad/1566.jpg'\n",
    "print(\"Original image is of: Sad\")\n",
    "\n",
    "img = preprocess_image(image)  # Using the new function\n",
    "pred = model.predict(img)\n",
    "pred_label = label[np.argmax(pred)]  # Ensure correct indexing\n",
    "\n",
    "print(\"Model prediction is:\", pred_label)\n",
    "plt.imshow(img.reshape(48,48),cmap='grey')"
   ]
  },
  {
   "cell_type": "code",
   "execution_count": null,
   "id": "0f47e0a9-23f6-4c9d-b1b9-ae68e695761f",
   "metadata": {},
   "outputs": [],
   "source": []
  }
 ],
 "metadata": {
  "kernelspec": {
   "display_name": "Python 3 (ipykernel)",
   "language": "python",
   "name": "python3"
  },
  "language_info": {
   "codemirror_mode": {
    "name": "ipython",
    "version": 3
   },
   "file_extension": ".py",
   "mimetype": "text/x-python",
   "name": "python",
   "nbconvert_exporter": "python",
   "pygments_lexer": "ipython3",
   "version": "3.12.3"
  }
 },
 "nbformat": 4,
 "nbformat_minor": 5
}
